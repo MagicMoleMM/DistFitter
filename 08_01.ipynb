{
  "nbformat": 4,
  "nbformat_minor": 0,
  "metadata": {
    "colab": {
      "provenance": [],
      "mount_file_id": "1Q5j64XvpTkHmUl5duSn2QQXB0j8aUTvL",
      "authorship_tag": "ABX9TyPmiCybjWWrVeRhC7N7fFhs",
      "include_colab_link": true
    },
    "kernelspec": {
      "name": "python3",
      "display_name": "Python 3"
    },
    "language_info": {
      "name": "python"
    }
  },
  "cells": [
    {
      "cell_type": "markdown",
      "metadata": {
        "id": "view-in-github",
        "colab_type": "text"
      },
      "source": [
        "<a href=\"https://colab.research.google.com/github/MagicMoleMM/DistFitter/blob/main/08_01.ipynb\" target=\"_parent\"><img src=\"https://colab.research.google.com/assets/colab-badge.svg\" alt=\"Open In Colab\"/></a>"
      ]
    },
    {
      "cell_type": "code",
      "execution_count": 11,
      "metadata": {
        "colab": {
          "base_uri": "https://localhost:8080/",
          "height": 323
        },
        "id": "v3AjoLfLoKyF",
        "outputId": "2c7fc5bb-a48f-47a3-8475-be3480911bd1"
      },
      "outputs": [
        {
          "output_type": "stream",
          "name": "stdout",
          "text": [
            "(50, 2)\n"
          ]
        },
        {
          "output_type": "execute_result",
          "data": {
            "text/plain": [
              "(-3.5, 7.5, -3.938853130834508, 12.036033868111778)"
            ]
          },
          "metadata": {},
          "execution_count": 11
        },
        {
          "output_type": "display_data",
          "data": {
            "text/plain": [
              "<Figure size 432x288 with 1 Axes>"
            ],
            "image/png": "[encoded data removed]"
          },
          "metadata": {
            "needs_background": "light"
          }
        }
      ],
      "source": [
        "import numpy as np\n",
        "import  pickle\n",
        "from matplotlib import pyplot as plt\n",
        "%matplotlib inline \n",
        "\n",
        "with open('/content/drive/MyDrive/Colab Notebooks/Файлы для обучения/eigen.pkl','rb') as f:\n",
        "  X = pickle.load(f)\n",
        "\n",
        "print(X.shape)\n",
        "plt.plot(X[:,0], X[:,1], 'x')\n",
        "plt.axis('equal')"
      ]
    },
    {
      "cell_type": "code",
      "source": [
        "from sklearn.decomposition import PCA\n",
        "\n",
        "pca = PCA(n_components=1).fit(X)\n",
        "X_pca = pca.transform(X)\n",
        "X_pca[:10]"
      ],
      "metadata": {
        "colab": {
          "base_uri": "https://localhost:8080/"
        },
        "id": "mrNdvzz_b_0M",
        "outputId": "66da931b-7182-4a61-d664-6ca7f4475e23"
      },
      "execution_count": 3,
      "outputs": [
        {
          "output_type": "execute_result",
          "data": {
            "text/plain": [
              "array([[5.28331909],\n",
              "       [3.84284422],\n",
              "       [5.88859559],\n",
              "       [8.07409089],\n",
              "       [4.16799935],\n",
              "       [3.8592636 ],\n",
              "       [4.17040423],\n",
              "       [3.86884344],\n",
              "       [5.65483844],\n",
              "       [3.16278418]])"
            ]
          },
          "metadata": {},
          "execution_count": 3
        }
      ]
    },
    {
      "cell_type": "code",
      "source": [
        "X_new = pca.inverse_transform(X_pca)\n",
        "\n",
        "plt.figure()\n",
        "plt.subplot(211)\n",
        "plt.plot(X_new[:,0],X_new[:,1], 'x')\n",
        "plt.subplot(212)\n",
        "plt.plot(X[:,0],X[:,1], 'o')"
      ],
      "metadata": {
        "colab": {
          "base_uri": "https://localhost:8080/",
          "height": 302
        },
        "id": "KctRkwwbcqGP",
        "outputId": "ae722c2c-043e-4723-cc66-af1c25daf517"
      },
      "execution_count": 9,
      "outputs": [
        {
          "output_type": "execute_result",
          "data": {
            "text/plain": [
              "[<matplotlib.lines.Line2D at 0x7f19d5439b20>]"
            ]
          },
          "metadata": {},
          "execution_count": 9
        },
        {
          "output_type": "display_data",
          "data": {
            "text/plain": [
              "<Figure size 432x288 with 2 Axes>"
            ],
            "image/png": "[encoded data removed]"
          },
          "metadata": {
            "needs_background": "light"
          }
        }
      ]
    },
    {
      "cell_type": "code",
      "source": [
        "mean_val = X.mean(axis=0)\n",
        "N = X.shape[0]\n",
        "X_centered = X.copy() - mean_val\n",
        "X_centered [:10]"
      ],
      "metadata": {
        "colab": {
          "base_uri": "https://localhost:8080/"
        },
        "id": "-C0bUNQ-gWSu",
        "outputId": "e96f5a28-3b41-43dd-901e-5707abc63537"
      },
      "execution_count": 17,
      "outputs": [
        {
          "output_type": "execute_result",
          "data": {
            "text/plain": [
              "array([[-5.        , -2.57641926],\n",
              "       [-4.79591837, -0.80537034],\n",
              "       [-4.59183673, -3.77593421],\n",
              "       [-4.3877551 , -6.93656366],\n",
              "       [-4.18367347, -1.81203199],\n",
              "       [-3.97959184, -1.58026031],\n",
              "       [-3.7755102 , -2.19158187],\n",
              "       [-3.57142857, -1.96956883],\n",
              "       [-3.36734694, -4.58683833],\n",
              "       [-3.16326531, -1.38553735]])"
            ]
          },
          "metadata": {},
          "execution_count": 17
        }
      ]
    },
    {
      "cell_type": "code",
      "source": [
        "X_cov = X_centered.T.dot(\n",
        "    X_centered\n",
        ") / (N-1)\n",
        "\n",
        "print(f'Ковариционная матрица: \\n {X_cov}')"
      ],
      "metadata": {
        "colab": {
          "base_uri": "https://localhost:8080/"
        },
        "id": "hSIgFYlYinWq",
        "outputId": "e9d5cea5-10a1-4f06-a9fb-dd8497b97e80"
      },
      "execution_count": 20,
      "outputs": [
        {
          "output_type": "stream",
          "name": "stdout",
          "text": [
            "Ковариционная матрица: \n",
            " [[8.85047897 6.81117445]\n",
            " [6.81117445 9.95969352]]\n"
          ]
        }
      ]
    },
    {
      "cell_type": "code",
      "source": [
        "np.cov(X_centered, rowvar=0)\n"
      ],
      "metadata": {
        "colab": {
          "base_uri": "https://localhost:8080/"
        },
        "id": "RvkcdY0PlMoZ",
        "outputId": "151a403a-9572-4f87-d9ee-1a6aba916aa8"
      },
      "execution_count": 21,
      "outputs": [
        {
          "output_type": "execute_result",
          "data": {
            "text/plain": [
              "array([[8.85047897, 6.81117445],\n",
              "       [6.81117445, 9.95969352]])"
            ]
          },
          "metadata": {},
          "execution_count": 21
        }
      ]
    },
    {
      "cell_type": "code",
      "source": [
        "from numpy import linalg\n",
        "\n",
        "eigenvalues, eigenvectors = linalg.eig(X_cov)\n",
        "eigenvectors.T"
      ],
      "metadata": {
        "colab": {
          "base_uri": "https://localhost:8080/"
        },
        "id": "E8IkXe-oloTy",
        "outputId": "659607ae-4a9b-470b-a635-f8991ca5a0e0"
      },
      "execution_count": 63,
      "outputs": [
        {
          "output_type": "execute_result",
          "data": {
            "text/plain": [
              "array([[-0.7352406 ,  0.67780621],\n",
              "       [-0.67780621, -0.7352406 ]])"
            ]
          },
          "metadata": {},
          "execution_count": 63
        }
      ]
    },
    {
      "cell_type": "code",
      "source": [
        "origin = np.array(X_centered.mean(axis=0)) #начало координат\n",
        "print(origin[0])\n",
        "\n",
        "plt.quiver(*origin, *eigenvectors.T[:,0], color=['r'], scale=eigenvalues[0])\n",
        "plt.quiver(*origin, *eigenvectors.T[:,1], color=['g'], scale=eigenvalues[1])\n",
        "plt.plot(X_centered[:,0],X_centered[:,1], 'x')"
      ],
      "metadata": {
        "colab": {
          "base_uri": "https://localhost:8080/",
          "height": 319
        },
        "id": "8O9aeBKvmagO",
        "outputId": "b2a454c3-5d22-4f19-e341-52fb079de8b3"
      },
      "execution_count": 81,
      "outputs": [
        {
          "output_type": "stream",
          "name": "stdout",
          "text": [
            "2.1316282072803005e-16\n"
          ]
        },
        {
          "output_type": "execute_result",
          "data": {
            "text/plain": [
              "[<matplotlib.lines.Line2D at 0x7f19d1e3ab80>]"
            ]
          },
          "metadata": {},
          "execution_count": 81
        },
        {
          "output_type": "display_data",
          "data": {
            "text/plain": [
              "<Figure size 432x288 with 1 Axes>"
            ],
            "image/png": "[encoded data removed]"
          },
          "metadata": {
            "needs_background": "light"
          }
        }
      ]
    },
    {
      "cell_type": "code",
      "source": [],
      "metadata": {
        "id": "Hru67WC1_Rv3"
      },
      "execution_count": null,
      "outputs": []
    }
  ]
}